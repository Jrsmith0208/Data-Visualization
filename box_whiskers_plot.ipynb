{
 "cells": [
  {
   "cell_type": "code",
   "execution_count": null,
   "metadata": {},
   "outputs": [],
   "source": [
    "import pandas as pd\n",
    "import matplotlib.pyplot as plt\n",
    "\n",
    "# Load data from CSV file\n",
    "data = pd.read_csv('data.csv')\n",
    "\n",
    "# Create box and whiskers plot\n",
    "plt.boxplot([data['pre'], data['post']], labels=['Pre-treatment', 'Post-treatment'])\n",
    "\n",
    "# Add title and change color\n",
    "plt.title('Pre and Post Treatment Measures')\n",
    "plt.set_facecolor('xkcd:light blue')\n",
    "\n",
    "# Add statistical significance test\n",
    "from scipy.stats import ttest_rel\n",
    "t, p = ttest_rel(data['pre'], data['post'])\n",
    "if p < 0.05:\n",
    "    plt.text(1.5, max(data['pre'].max(), data['post'].max()), 'p = {:.3f} *'.format(p))\n",
    "else:\n",
    "    plt.text(1.5, max(data['pre'].max(), data['post'].max()), 'p = {:.3f}'.format(p))\n",
    "\n",
    "# Show plot\n",
    "plt.show()"
   ]
  }
 ],
 "metadata": {
  "kernelspec": {
   "display_name": "base",
   "language": "python",
   "name": "python3"
  },
  "language_info": {
   "name": "python",
   "version": "3.9.13 (main, Aug 25 2022, 23:51:50) [MSC v.1916 64 bit (AMD64)]"
  },
  "orig_nbformat": 4,
  "vscode": {
   "interpreter": {
    "hash": "37030d73f8d872c4536cd9f97ed08e5097f5d122807ba5b2762a5395e6b14efd"
   }
  }
 },
 "nbformat": 4,
 "nbformat_minor": 2
}
